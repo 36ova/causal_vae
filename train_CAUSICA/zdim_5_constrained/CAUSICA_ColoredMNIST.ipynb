{
 "cells": [
  {
   "cell_type": "markdown",
   "metadata": {
    "id": "zj7y8odx1Zbv"
   },
   "source": [
    "### Using Zs in CAUSICA"
   ]
  },
  {
   "cell_type": "code",
   "execution_count": 1,
   "metadata": {
    "colab": {
     "base_uri": "https://localhost:8080/"
    },
    "id": "fD5X0JJY6kJK",
    "outputId": "234984ce-ee11-4b3d-adfd-b09d0aa67adc",
    "scrolled": false
   },
   "outputs": [
    {
     "name": "stderr",
     "output_type": "stream",
     "text": [
      "Seed set to 1\n"
     ]
    },
    {
     "data": {
      "text/plain": [
       "1"
      ]
     },
     "execution_count": 1,
     "metadata": {},
     "output_type": "execute_result"
    }
   ],
   "source": [
    "import pytorch_lightning as pl\n",
    "seed = 1\n",
    "pl.seed_everything(seed)  # set the random seed"
   ]
  },
  {
   "cell_type": "code",
   "execution_count": 2,
   "metadata": {
    "id": "NXI2M1QIt7U-"
   },
   "outputs": [],
   "source": [
    "import os\n",
    "from dataclasses import dataclass\n",
    "\n",
    "import networkx as nx\n",
    "import torch\n",
    "from tensordict import TensorDict\n",
    "from torch.utils.data import DataLoader\n",
    "\n",
    "from causica.datasets.causica_dataset_format import CAUSICA_DATASETS_PATH, DataEnum, load_data, VariablesMetadata\n",
    "from causica.datasets.tensordict_utils import tensordict_shapes\n",
    "from causica.distributions import (\n",
    "    AdjacencyDistribution,\n",
    "    ContinuousNoiseDist,\n",
    "    DistributionModule,\n",
    "    ENCOAdjacencyDistributionModule,\n",
    "    ConstrainedAdjacency,\n",
    "    GibbsDAGPrior,\n",
    "    JointNoiseModule,\n",
    "    create_noise_modules,\n",
    ")\n",
    "from causica.functional_relationships import DECIEmbedFunctionalRelationships\n",
    "from causica.graph.dag_constraint import calculate_dagness\n",
    "from causica.sem.sem_distribution import SEMDistributionModule\n",
    "from causica.training.auglag import AugLagLossCalculator, AugLagLR, AugLagLRConfig\n",
    "import numpy as np"
   ]
  },
  {
   "cell_type": "markdown",
   "metadata": {
    "id": "98tadDhyt7U_"
   },
   "source": [
    "Define various parameters of the training process."
   ]
  },
  {
   "cell_type": "code",
   "execution_count": 3,
   "metadata": {
    "id": "oGewNOmat7VA"
   },
   "outputs": [],
   "source": [
    "@dataclass(frozen=True)\n",
    "class TrainingConfig:\n",
    "    noise_dist: ContinuousNoiseDist = ContinuousNoiseDist.SPLINE\n",
    "    batch_size: int = 128\n",
    "    max_epoch: int = int(os.environ.get(\"TEST_RUN\", 2000))  # used by testing to run the notebook as a script\n",
    "    gumbel_temp: float = 0.25\n",
    "    averaging_period: int = 10\n",
    "    prior_sparsity_lambda: float = 5.0\n",
    "    init_rho: float = 1.0\n",
    "    init_alpha: float = 0.0\n",
    "\n",
    "\n",
    "training_config = TrainingConfig()\n",
    "auglag_config = AugLagLRConfig()\n",
    "device = \"cuda\" if torch.cuda.is_available() else \"cpu\""
   ]
  },
  {
   "cell_type": "markdown",
   "metadata": {
    "id": "tWXQJs_wt7VB"
   },
   "source": [
    "We now download the dataset from Azure Blob storage.\n",
    "\n",
    "The Causica repo makes heavy use of [TensorDict](https://pytorch.org/rl/tensordict/reference/generated/tensordict.TensorDict.html). A dataset is assumed to be a TensorDict, with each key containing the data associated with a given node.\n",
    "\n",
    "The `variables_metadata` object stored with the CSuite data also describes the type of each node, which we will need when we create the Noise Distributions for each node."
   ]
  },
  {
   "cell_type": "code",
   "execution_count": 9,
   "metadata": {
    "id": "cqyMAjq5h1a-"
   },
   "outputs": [],
   "source": [
    "root_path = '.'\n",
    "variables_metadata = load_data(root_path, DataEnum.VARIABLES_JSON)"
   ]
  },
  {
   "cell_type": "code",
   "execution_count": 10,
   "metadata": {
    "colab": {
     "base_uri": "https://localhost:8080/",
     "height": 356
    },
    "id": "zn2W899jt7VB",
    "outputId": "25484d6c-a56f-48e8-f96a-4548e2a8ae52"
   },
   "outputs": [],
   "source": [
    "dataset_train: TensorDict = load_data(root_path, DataEnum.TRAIN, variables_metadata)\n",
    "dataset_train = dataset_train.apply(lambda t: t.to(dtype=torch.float32, device=device))\n",
    "\n",
    "dataloader_train = DataLoader(\n",
    "    dataset=dataset_train,\n",
    "    collate_fn=lambda x: x,\n",
    "    batch_size=training_config.batch_size,\n",
    "    shuffle=True,\n",
    ")"
   ]
  },
  {
   "cell_type": "markdown",
   "metadata": {
    "id": "cY3UkIzdt7VB"
   },
   "source": [
    "Create a prior distribution over DAGs."
   ]
  },
  {
   "cell_type": "code",
   "execution_count": 11,
   "metadata": {
    "colab": {
     "base_uri": "https://localhost:8080/"
    },
    "id": "esQ9OLLuvO_P",
    "outputId": "cbfa5255-1c51-4099-c0c7-fdd11960434e"
   },
   "outputs": [
    {
     "data": {
      "text/plain": [
       "8"
      ]
     },
     "execution_count": 11,
     "metadata": {},
     "output_type": "execute_result"
    }
   ],
   "source": [
    "num_nodes = len(dataset_train.keys())\n",
    "\n",
    "prior = GibbsDAGPrior(num_nodes=num_nodes, sparsity_lambda=training_config.prior_sparsity_lambda)\n",
    "num_nodes"
   ]
  },
  {
   "cell_type": "code",
   "execution_count": 12,
   "metadata": {
    "colab": {
     "base_uri": "https://localhost:8080/"
    },
    "id": "BVLl05qkc0re",
    "outputId": "0d630998-8ea8-4ee9-884d-423ab831eb04"
   },
   "outputs": [
    {
     "name": "stdout",
     "output_type": "stream",
     "text": [
      "torch.Size([]) torch.Size([8, 8])\n"
     ]
    },
    {
     "data": {
      "text/plain": [
       "(8, None, 5.0)"
      ]
     },
     "execution_count": 12,
     "metadata": {},
     "output_type": "execute_result"
    }
   ],
   "source": [
    "print(prior.batch_shape, prior.event_shape)\n",
    "prior._num_nodes, prior._expert_graph_container, prior._sparsity_lambda"
   ]
  },
  {
   "cell_type": "markdown",
   "metadata": {
    "id": "2spChQYgt7VC"
   },
   "source": [
    "Create the Variational Posterior Distribution over Adjacency Matrices, which we will optimize."
   ]
  },
  {
   "cell_type": "code",
   "execution_count": 13,
   "metadata": {},
   "outputs": [],
   "source": [
    "# The constraint matrix has the same shape as the adjacency matrix\n",
    "# A `nan` value means no constraint\n",
    "# A 0 value means a negative constraint\n",
    "# A 1 value means a positive constraint\n",
    "node_name_to_idx = {key: i for i, key in enumerate(dataset_train.keys())}\n",
    "constraint_matrix = np.full((num_nodes, num_nodes), np.nan, dtype=np.float32)\n",
    "\n",
    "for y_num in range(3):\n",
    "    y_idx = node_name_to_idx[\"y\"+str(y_num)]\n",
    "    constraint_matrix[:, y_idx] = 0.0\n",
    "constraint_matrix = torch.tensor(constraint_matrix)"
   ]
  },
  {
   "cell_type": "code",
   "execution_count": 14,
   "metadata": {
    "id": "OzwJxKbWt7VC"
   },
   "outputs": [],
   "source": [
    "adjacency_dist: DistributionModule[AdjacencyDistribution] = ENCOAdjacencyDistributionModule(num_nodes)\n",
    "adjacency_dist = ConstrainedAdjacency(adjacency_dist, constraint_matrix)"
   ]
  },
  {
   "cell_type": "markdown",
   "metadata": {
    "id": "9m1NalP2t7VC"
   },
   "source": [
    "Create the Graph Neural network that will estimate the functional relationships. More info can be found [here](https://openreview.net/forum?id=S2pNPZM-w-f)."
   ]
  },
  {
   "cell_type": "code",
   "execution_count": 16,
   "metadata": {
    "id": "24fWBbzYt7VC"
   },
   "outputs": [],
   "source": [
    "functional_relationships = DECIEmbedFunctionalRelationships(\n",
    "    shapes=tensordict_shapes(dataset_train),\n",
    "    embedding_size=32,\n",
    "    out_dim_g=32,\n",
    "    num_layers_g=2,\n",
    "    num_layers_zeta=2,\n",
    ")"
   ]
  },
  {
   "cell_type": "code",
   "execution_count": 17,
   "metadata": {
    "colab": {
     "base_uri": "https://localhost:8080/"
    },
    "id": "tCNMOuBWlM4v",
    "outputId": "aad3f93b-e295-4612-99c5-b701dba2b241"
   },
   "outputs": [
    {
     "data": {
      "text/plain": [
       "{'y0': torch.Size([10]),\n",
       " 'y1': torch.Size([10]),\n",
       " 'y2': torch.Size([10]),\n",
       " 'z0': torch.Size([1]),\n",
       " 'z1': torch.Size([1]),\n",
       " 'z2': torch.Size([1]),\n",
       " 'z3': torch.Size([1]),\n",
       " 'z4': torch.Size([1])}"
      ]
     },
     "execution_count": 17,
     "metadata": {},
     "output_type": "execute_result"
    }
   ],
   "source": [
    "tensordict_shapes(dataset_train)"
   ]
  },
  {
   "cell_type": "code",
   "execution_count": 18,
   "metadata": {
    "colab": {
     "base_uri": "https://localhost:8080/"
    },
    "id": "BuBuhROhk3M_",
    "outputId": "76cccf0c-d874-477b-d404-3f5c8cd2e7c2",
    "scrolled": false
   },
   "outputs": [
    {
     "data": {
      "text/plain": [
       "<Axes: >"
      ]
     },
     "execution_count": 18,
     "metadata": {},
     "output_type": "execute_result"
    },
    {
     "data": {
      "image/png": "[encoded data removed]",
      "text/plain": [
       "<Figure size 640x480 with 2 Axes>"
      ]
     },
     "metadata": {},
     "output_type": "display_data"
    }
   ],
   "source": [
    "import seaborn as sns\n",
    "sns.heatmap(functional_relationships.nn.group_mask)"
   ]
  },
  {
   "cell_type": "code",
   "execution_count": 19,
   "metadata": {
    "colab": {
     "base_uri": "https://localhost:8080/"
    },
    "id": "oVJBHzQnlEIk",
    "outputId": "0dd2bc1a-1796-4d59-8fc6-e78f38fab0de"
   },
   "outputs": [
    {
     "data": {
      "text/plain": [
       "(8, 35)"
      ]
     },
     "execution_count": 19,
     "metadata": {},
     "output_type": "execute_result"
    }
   ],
   "source": [
    "num_nodes, concatenated_shape = functional_relationships.nn.group_mask.shape\n",
    "num_nodes, concatenated_shape"
   ]
  },
  {
   "cell_type": "code",
   "execution_count": 20,
   "metadata": {
    "colab": {
     "base_uri": "https://localhost:8080/"
    },
    "id": "rz23meIgHjev",
    "outputId": "b6aa32f5-bde1-453e-aa8e-89f07f7fea30",
    "scrolled": true
   },
   "outputs": [
    {
     "data": {
      "text/plain": [
       "DECIEmbedFunctionalRelationships(\n",
       "  (nn): DECIEmbedNN(\n",
       "    (l): Sequential(\n",
       "      (0): Sequential(\n",
       "        (0): Linear(in_features=67, out_features=140, bias=True)\n",
       "        (1): LeakyReLU(negative_slope=0.01)\n",
       "      )\n",
       "      (1): _ResBlock(\n",
       "        (block): Sequential(\n",
       "          (0): LayerNorm((140,), eps=1e-05, elementwise_affine=True)\n",
       "          (1): Linear(in_features=140, out_features=140, bias=True)\n",
       "          (2): LeakyReLU(negative_slope=0.01)\n",
       "        )\n",
       "      )\n",
       "      (2): LayerNorm((140,), eps=1e-05, elementwise_affine=True)\n",
       "      (3): Linear(in_features=140, out_features=32, bias=True)\n",
       "    )\n",
       "    (zeta): Sequential(\n",
       "      (0): Sequential(\n",
       "        (0): Linear(in_features=64, out_features=140, bias=True)\n",
       "        (1): LeakyReLU(negative_slope=0.01)\n",
       "      )\n",
       "      (1): _ResBlock(\n",
       "        (block): Sequential(\n",
       "          (0): LayerNorm((140,), eps=1e-05, elementwise_affine=True)\n",
       "          (1): Linear(in_features=140, out_features=140, bias=True)\n",
       "          (2): LeakyReLU(negative_slope=0.01)\n",
       "        )\n",
       "      )\n",
       "      (2): LayerNorm((140,), eps=1e-05, elementwise_affine=True)\n",
       "      (3): Linear(in_features=140, out_features=35, bias=True)\n",
       "    )\n",
       "  )\n",
       ")"
      ]
     },
     "execution_count": 20,
     "metadata": {},
     "output_type": "execute_result"
    }
   ],
   "source": [
    "functional_relationships"
   ]
  },
  {
   "cell_type": "markdown",
   "metadata": {
    "id": "BiGbrjSZt7VC"
   },
   "source": [
    "Create the Noise Distributions for each node using the definitions in `variables_metadata`."
   ]
  },
  {
   "cell_type": "code",
   "execution_count": 21,
   "metadata": {
    "id": "gG_zVIc-t7VC"
   },
   "outputs": [],
   "source": [
    "variable_shapes = tensordict_shapes(dataset_train)\n",
    "\n",
    "types_dict = {var.group_name: var.type for var in variables_metadata.variables}\n",
    "\n",
    "noise_submodules = create_noise_modules(variable_shapes, types_dict, training_config.noise_dist)\n",
    "noise_module = JointNoiseModule(noise_submodules)"
   ]
  },
  {
   "cell_type": "code",
   "execution_count": 22,
   "metadata": {
    "colab": {
     "base_uri": "https://localhost:8080/"
    },
    "id": "-28YZeKJtO4-",
    "outputId": "3f056114-3d80-46cf-c8eb-80bd68bbfa41"
   },
   "outputs": [
    {
     "data": {
      "text/plain": [
       "SplineNoise()"
      ]
     },
     "execution_count": 22,
     "metadata": {},
     "output_type": "execute_result"
    }
   ],
   "source": [
    "noise_submodules['z0']().base_dist"
   ]
  },
  {
   "cell_type": "code",
   "execution_count": 24,
   "metadata": {
    "colab": {
     "base_uri": "https://localhost:8080/"
    },
    "id": "7lV_Myt2tJZJ",
    "outputId": "140700b2-f474-497d-fe30-3bc433b7309a"
   },
   "outputs": [
    {
     "data": {
      "text/plain": [
       "CategoricalNoise()"
      ]
     },
     "execution_count": 24,
     "metadata": {},
     "output_type": "execute_result"
    }
   ],
   "source": [
    "noise_submodules['y0']()"
   ]
  },
  {
   "cell_type": "markdown",
   "metadata": {
    "id": "AWjtgAmyt7VC"
   },
   "source": [
    "Create the SEM Module which combines the variational adjacency distribution, the functional relationships and the noise distributions for each node."
   ]
  },
  {
   "cell_type": "code",
   "execution_count": 25,
   "metadata": {
    "id": "PbpksUbjt7VC"
   },
   "outputs": [],
   "source": [
    "sem_module: SEMDistributionModule = SEMDistributionModule(adjacency_dist, functional_relationships, noise_module)\n",
    "\n",
    "sem_module.to(device);"
   ]
  },
  {
   "cell_type": "code",
   "execution_count": 26,
   "metadata": {
    "id": "CN87b5kfuGde"
   },
   "outputs": [
    {
     "data": {
      "text/plain": [
       "SEMDistribution()"
      ]
     },
     "execution_count": 26,
     "metadata": {},
     "output_type": "execute_result"
    }
   ],
   "source": [
    "sem_module()"
   ]
  },
  {
   "cell_type": "code",
   "execution_count": 27,
   "metadata": {
    "colab": {
     "base_uri": "https://localhost:8080/"
    },
    "id": "jZWRDfDmHZfI",
    "outputId": "3e0d5ab3-8cfc-4a82-fe59-fc1073b0db68"
   },
   "outputs": [
    {
     "data": {
      "text/plain": [
       "SEMDistributionModule(\n",
       "  (adjacency_module): ConstrainedAdjacency(\n",
       "    (adjacency_distribution): ENCOAdjacencyDistributionModule()\n",
       "  )\n",
       "  (functional_relationships): DECIEmbedFunctionalRelationships(\n",
       "    (nn): DECIEmbedNN(\n",
       "      (l): Sequential(\n",
       "        (0): Sequential(\n",
       "          (0): Linear(in_features=67, out_features=140, bias=True)\n",
       "          (1): LeakyReLU(negative_slope=0.01)\n",
       "        )\n",
       "        (1): _ResBlock(\n",
       "          (block): Sequential(\n",
       "            (0): LayerNorm((140,), eps=1e-05, elementwise_affine=True)\n",
       "            (1): Linear(in_features=140, out_features=140, bias=True)\n",
       "            (2): LeakyReLU(negative_slope=0.01)\n",
       "          )\n",
       "        )\n",
       "        (2): LayerNorm((140,), eps=1e-05, elementwise_affine=True)\n",
       "        (3): Linear(in_features=140, out_features=32, bias=True)\n",
       "      )\n",
       "      (zeta): Sequential(\n",
       "        (0): Sequential(\n",
       "          (0): Linear(in_features=64, out_features=140, bias=True)\n",
       "          (1): LeakyReLU(negative_slope=0.01)\n",
       "        )\n",
       "        (1): _ResBlock(\n",
       "          (block): Sequential(\n",
       "            (0): LayerNorm((140,), eps=1e-05, elementwise_affine=True)\n",
       "            (1): Linear(in_features=140, out_features=140, bias=True)\n",
       "            (2): LeakyReLU(negative_slope=0.01)\n",
       "          )\n",
       "        )\n",
       "        (2): LayerNorm((140,), eps=1e-05, elementwise_affine=True)\n",
       "        (3): Linear(in_features=140, out_features=35, bias=True)\n",
       "      )\n",
       "    )\n",
       "  )\n",
       "  (noise_module): JointNoiseModule(\n",
       "    (noise_modules): ModuleDict(\n",
       "      (y0): CategoricalNoiseModule()\n",
       "      (y1): CategoricalNoiseModule()\n",
       "      (y2): CategoricalNoiseModule()\n",
       "      (z0): SplineNoiseModule(\n",
       "        (composite_spline_layers): ModuleList(\n",
       "          (0-1): 2 x CompositeSplineLayer()\n",
       "        )\n",
       "      )\n",
       "      (z1): SplineNoiseModule(\n",
       "        (composite_spline_layers): ModuleList(\n",
       "          (0-1): 2 x CompositeSplineLayer()\n",
       "        )\n",
       "      )\n",
       "      (z2): SplineNoiseModule(\n",
       "        (composite_spline_layers): ModuleList(\n",
       "          (0-1): 2 x CompositeSplineLayer()\n",
       "        )\n",
       "      )\n",
       "      (z3): SplineNoiseModule(\n",
       "        (composite_spline_layers): ModuleList(\n",
       "          (0-1): 2 x CompositeSplineLayer()\n",
       "        )\n",
       "      )\n",
       "      (z4): SplineNoiseModule(\n",
       "        (composite_spline_layers): ModuleList(\n",
       "          (0-1): 2 x CompositeSplineLayer()\n",
       "        )\n",
       "      )\n",
       "    )\n",
       "  )\n",
       ")"
      ]
     },
     "execution_count": 27,
     "metadata": {},
     "output_type": "execute_result"
    }
   ],
   "source": [
    "sem_module"
   ]
  },
  {
   "cell_type": "markdown",
   "metadata": {
    "id": "vcYBwrXwt7VC"
   },
   "source": [
    "Create the optimizer, with separate learning rates for each module."
   ]
  },
  {
   "cell_type": "code",
   "execution_count": 28,
   "metadata": {
    "id": "6BfBSWv4t7VC"
   },
   "outputs": [],
   "source": [
    "modules = {\n",
    "    \"functional_relationships\": sem_module.functional_relationships,\n",
    "    \"vardist\": sem_module.adjacency_module,\n",
    "    \"noise_dist\": sem_module.noise_module,\n",
    "}\n",
    "parameter_list = [\n",
    "    {\"params\": module.parameters(), \"lr\": auglag_config.lr_init_dict[name], \"name\": name}\n",
    "    for name, module in modules.items()\n",
    "]\n",
    "\n",
    "optimizer = torch.optim.Adam(parameter_list)"
   ]
  },
  {
   "cell_type": "markdown",
   "metadata": {
    "id": "FTgcbPHSt7VD"
   },
   "source": [
    "Define the [Augmented Lagrangian Scheduler](https://en.wikipedia.org/wiki/Augmented_Lagrangian_method).\n",
    "\n",
    "This allows DECI to optimize towards a DAG, by slowly increasing the alpha and rho parameters as the optimization takes place"
   ]
  },
  {
   "cell_type": "code",
   "execution_count": 29,
   "metadata": {
    "id": "wUkrmF1wt7VD"
   },
   "outputs": [],
   "source": [
    "scheduler = AugLagLR(config=auglag_config)\n",
    "auglag_loss = AugLagLossCalculator(init_alpha=training_config.init_alpha, init_rho=training_config.init_rho)"
   ]
  },
  {
   "cell_type": "markdown",
   "metadata": {
    "id": "xbt5KprHt7VD"
   },
   "source": [
    "The main training loop.\n",
    "\n",
    "For each batch, we:\n",
    "* Sample a graph from the SEM.\n",
    "* Calculate the log probability of that batch, given the graph.\n",
    "* Create the ELBO to be optimized.\n",
    "* Calculate the DAG constraint\n",
    "* Combine the DAG constraint with the ELBO to get the loss."
   ]
  },
  {
   "cell_type": "code",
   "execution_count": 30,
   "metadata": {},
   "outputs": [],
   "source": [
    "from tqdm.notebook import tqdm"
   ]
  },
  {
   "cell_type": "code",
   "execution_count": 31,
   "metadata": {
    "colab": {
     "base_uri": "https://localhost:8080/"
    },
    "id": "jLu6_475t7VD",
    "outputId": "86cc9ed1-5bf9-4841-8249-5f41cb1e493a",
    "scrolled": true
   },
   "outputs": [
    {
     "data": {
      "application/vnd.jupyter.widget-view+json": {
       "model_id": "aef99d7504fb47e4857dafd33230b37b",
       "version_major": 2,
       "version_minor": 0
      },
      "text/plain": [
       "  0%|          | 0/500 [00:00<?, ?it/s]"
      ]
     },
     "metadata": {},
     "output_type": "display_data"
    },
    {
     "name": "stdout",
     "output_type": "stream",
     "text": [
      "epoch:0 loss:15.219 nll:15.219 dagness:2.17232 num_edges:8 alpha:0 rho:1 step:0|1 num_lr_updates:0\n",
      "Updating alpha to: 2.7125320434570312\n",
      "epoch:10 loss:12.684 nll:12.682 dagness:2.71253 num_edges:24 alpha:2.7125 rho:1 step:1|1681 num_lr_updates:2\n",
      "Updating rho, dag penalty prev:  2.7125320435\n",
      "Updating rho, dag penalty prev:  2.7125320435\n",
      "Updating rho, dag penalty prev:  2.7125320435\n",
      "Updating rho, dag penalty prev:  2.7125320435\n",
      "epoch:20 loss:12.592 nll:12.59 dagness:2.71253 num_edges:24 alpha:2.7125 rho:10000 step:5|694 num_lr_updates:0\n",
      "Updating rho, dag penalty prev:  2.7125320435\n",
      "Updating rho, dag penalty prev:  2.7125320435\n",
      "Updating rho, dag penalty prev:  2.7125320435\n",
      "Updating rho, dag penalty prev:  2.7125320435\n",
      "epoch:30 loss:12.77 nll:12.715 dagness:1.96447 num_edges:23 alpha:2.7125 rho:1e+08 step:9|964 num_lr_updates:1\n",
      "Updating rho, dag penalty prev:  2.7125320435\n",
      "Updating rho, dag penalty prev:  2.7125320435\n",
      "Updating alpha to: 7142238720.0\n",
      "Updating rho, dag penalty prev:  0.7142238617\n",
      "epoch:40 loss:80180 nll:13.162 dagness:0.67233 num_edges:20 alpha:7.1422e+09 rho:1e+11 step:13|45 num_lr_updates:0\n",
      "Updating alpha to: 35711193088.0\n",
      "Updating alpha to: 178555961344.0\n",
      "Updating alpha to: 892779823104.0\n",
      "epoch:50 loss:13.103 nll:13.101 dagness:0.00000 num_edges:19 alpha:8.9278e+11 rho:1e+11 step:16|1223 num_lr_updates:2\n",
      "Updating alpha to: 4463899181056.0\n",
      "Updating alpha to: 22319495905280.0\n",
      "epoch:60 loss:13.028 nll:13.027 dagness:0.00000 num_edges:19 alpha:1e+13 rho:1e+11 step:18|2736 num_lr_updates:2\n"
     ]
    },
    {
     "ename": "KeyboardInterrupt",
     "evalue": "",
     "output_type": "error",
     "traceback": [
      "\u001b[0;31m---------------------------------------------------------------------------\u001b[0m",
      "\u001b[0;31mKeyboardInterrupt\u001b[0m                         Traceback (most recent call last)",
      "Cell \u001b[0;32mIn[31], line 20\u001b[0m\n\u001b[1;32m     16\u001b[0m constraint \u001b[38;5;241m=\u001b[39m calculate_dagness(sem\u001b[38;5;241m.\u001b[39mgraph)\n\u001b[1;32m     18\u001b[0m loss \u001b[38;5;241m=\u001b[39m auglag_loss(objective, constraint \u001b[38;5;241m/\u001b[39m num_samples)\n\u001b[0;32m---> 20\u001b[0m \u001b[43mloss\u001b[49m\u001b[38;5;241;43m.\u001b[39;49m\u001b[43mbackward\u001b[49m\u001b[43m(\u001b[49m\u001b[43m)\u001b[49m\n\u001b[1;32m     21\u001b[0m optimizer\u001b[38;5;241m.\u001b[39mstep()\n\u001b[1;32m     22\u001b[0m \u001b[38;5;66;03m# update the Auglag parameters\u001b[39;00m\n",
      "File \u001b[0;32m/opt/anaconda3/lib/python3.10/site-packages/torch/_tensor.py:525\u001b[0m, in \u001b[0;36mTensor.backward\u001b[0;34m(self, gradient, retain_graph, create_graph, inputs)\u001b[0m\n\u001b[1;32m    515\u001b[0m \u001b[38;5;28;01mif\u001b[39;00m has_torch_function_unary(\u001b[38;5;28mself\u001b[39m):\n\u001b[1;32m    516\u001b[0m     \u001b[38;5;28;01mreturn\u001b[39;00m handle_torch_function(\n\u001b[1;32m    517\u001b[0m         Tensor\u001b[38;5;241m.\u001b[39mbackward,\n\u001b[1;32m    518\u001b[0m         (\u001b[38;5;28mself\u001b[39m,),\n\u001b[0;32m   (...)\u001b[0m\n\u001b[1;32m    523\u001b[0m         inputs\u001b[38;5;241m=\u001b[39minputs,\n\u001b[1;32m    524\u001b[0m     )\n\u001b[0;32m--> 525\u001b[0m \u001b[43mtorch\u001b[49m\u001b[38;5;241;43m.\u001b[39;49m\u001b[43mautograd\u001b[49m\u001b[38;5;241;43m.\u001b[39;49m\u001b[43mbackward\u001b[49m\u001b[43m(\u001b[49m\n\u001b[1;32m    526\u001b[0m \u001b[43m    \u001b[49m\u001b[38;5;28;43mself\u001b[39;49m\u001b[43m,\u001b[49m\u001b[43m \u001b[49m\u001b[43mgradient\u001b[49m\u001b[43m,\u001b[49m\u001b[43m \u001b[49m\u001b[43mretain_graph\u001b[49m\u001b[43m,\u001b[49m\u001b[43m \u001b[49m\u001b[43mcreate_graph\u001b[49m\u001b[43m,\u001b[49m\u001b[43m \u001b[49m\u001b[43minputs\u001b[49m\u001b[38;5;241;43m=\u001b[39;49m\u001b[43minputs\u001b[49m\n\u001b[1;32m    527\u001b[0m \u001b[43m\u001b[49m\u001b[43m)\u001b[49m\n",
      "File \u001b[0;32m/opt/anaconda3/lib/python3.10/site-packages/torch/autograd/__init__.py:267\u001b[0m, in \u001b[0;36mbackward\u001b[0;34m(tensors, grad_tensors, retain_graph, create_graph, grad_variables, inputs)\u001b[0m\n\u001b[1;32m    262\u001b[0m     retain_graph \u001b[38;5;241m=\u001b[39m create_graph\n\u001b[1;32m    264\u001b[0m \u001b[38;5;66;03m# The reason we repeat the same comment below is that\u001b[39;00m\n\u001b[1;32m    265\u001b[0m \u001b[38;5;66;03m# some Python versions print out the first line of a multi-line function\u001b[39;00m\n\u001b[1;32m    266\u001b[0m \u001b[38;5;66;03m# calls in the traceback and some print out the last line\u001b[39;00m\n\u001b[0;32m--> 267\u001b[0m \u001b[43m_engine_run_backward\u001b[49m\u001b[43m(\u001b[49m\n\u001b[1;32m    268\u001b[0m \u001b[43m    \u001b[49m\u001b[43mtensors\u001b[49m\u001b[43m,\u001b[49m\n\u001b[1;32m    269\u001b[0m \u001b[43m    \u001b[49m\u001b[43mgrad_tensors_\u001b[49m\u001b[43m,\u001b[49m\n\u001b[1;32m    270\u001b[0m \u001b[43m    \u001b[49m\u001b[43mretain_graph\u001b[49m\u001b[43m,\u001b[49m\n\u001b[1;32m    271\u001b[0m \u001b[43m    \u001b[49m\u001b[43mcreate_graph\u001b[49m\u001b[43m,\u001b[49m\n\u001b[1;32m    272\u001b[0m \u001b[43m    \u001b[49m\u001b[43minputs\u001b[49m\u001b[43m,\u001b[49m\n\u001b[1;32m    273\u001b[0m \u001b[43m    \u001b[49m\u001b[43mallow_unreachable\u001b[49m\u001b[38;5;241;43m=\u001b[39;49m\u001b[38;5;28;43;01mTrue\u001b[39;49;00m\u001b[43m,\u001b[49m\n\u001b[1;32m    274\u001b[0m \u001b[43m    \u001b[49m\u001b[43maccumulate_grad\u001b[49m\u001b[38;5;241;43m=\u001b[39;49m\u001b[38;5;28;43;01mTrue\u001b[39;49;00m\u001b[43m,\u001b[49m\n\u001b[1;32m    275\u001b[0m \u001b[43m\u001b[49m\u001b[43m)\u001b[49m\n",
      "File \u001b[0;32m/opt/anaconda3/lib/python3.10/site-packages/torch/autograd/graph.py:744\u001b[0m, in \u001b[0;36m_engine_run_backward\u001b[0;34m(t_outputs, *args, **kwargs)\u001b[0m\n\u001b[1;32m    742\u001b[0m     unregister_hooks \u001b[38;5;241m=\u001b[39m _register_logging_hooks_on_whole_graph(t_outputs)\n\u001b[1;32m    743\u001b[0m \u001b[38;5;28;01mtry\u001b[39;00m:\n\u001b[0;32m--> 744\u001b[0m     \u001b[38;5;28;01mreturn\u001b[39;00m \u001b[43mVariable\u001b[49m\u001b[38;5;241;43m.\u001b[39;49m\u001b[43m_execution_engine\u001b[49m\u001b[38;5;241;43m.\u001b[39;49m\u001b[43mrun_backward\u001b[49m\u001b[43m(\u001b[49m\u001b[43m  \u001b[49m\u001b[38;5;66;43;03m# Calls into the C++ engine to run the backward pass\u001b[39;49;00m\n\u001b[1;32m    745\u001b[0m \u001b[43m        \u001b[49m\u001b[43mt_outputs\u001b[49m\u001b[43m,\u001b[49m\u001b[43m \u001b[49m\u001b[38;5;241;43m*\u001b[39;49m\u001b[43margs\u001b[49m\u001b[43m,\u001b[49m\u001b[43m \u001b[49m\u001b[38;5;241;43m*\u001b[39;49m\u001b[38;5;241;43m*\u001b[39;49m\u001b[43mkwargs\u001b[49m\n\u001b[1;32m    746\u001b[0m \u001b[43m    \u001b[49m\u001b[43m)\u001b[49m  \u001b[38;5;66;03m# Calls into the C++ engine to run the backward pass\u001b[39;00m\n\u001b[1;32m    747\u001b[0m \u001b[38;5;28;01mfinally\u001b[39;00m:\n\u001b[1;32m    748\u001b[0m     \u001b[38;5;28;01mif\u001b[39;00m attach_logging_hooks:\n",
      "\u001b[0;31mKeyboardInterrupt\u001b[0m: "
     ]
    }
   ],
   "source": [
    "assert len(dataset_train.batch_size) == 1, \"Only 1D batch size is supported\"\n",
    "num_samples = len(dataset_train)\n",
    "# for epoch in range(training_config.max_epoch):\n",
    "for epoch in tqdm(range(500)):\n",
    "    for i, batch in enumerate(dataloader_train):\n",
    "        optimizer.zero_grad()\n",
    "        sem_distribution = sem_module()\n",
    "        sem, *_ = sem_distribution.relaxed_sample(\n",
    "            torch.Size([]), temperature=training_config.gumbel_temp\n",
    "        )  # soft sample\n",
    "\n",
    "        batch_log_prob = sem.log_prob(batch).mean()\n",
    "        sem_distribution_entropy = sem_distribution.entropy()\n",
    "        prior_term = prior.log_prob(sem.graph)\n",
    "        objective = (-sem_distribution_entropy - prior_term) / num_samples - batch_log_prob\n",
    "        constraint = calculate_dagness(sem.graph)\n",
    "\n",
    "        loss = auglag_loss(objective, constraint / num_samples)\n",
    "\n",
    "        loss.backward()\n",
    "        optimizer.step()\n",
    "        # update the Auglag parameters\n",
    "        scheduler.step(\n",
    "            optimizer=optimizer,\n",
    "            loss=auglag_loss,\n",
    "            loss_value=loss,\n",
    "            lagrangian_penalty=constraint,\n",
    "        )\n",
    "        # log metrics\n",
    "        if epoch % 10 == 0 and i == 0:\n",
    "            print(\n",
    "                f\"epoch:{epoch} loss:{loss.item():.5g} nll:{-batch_log_prob.detach().cpu().numpy():.5g} \"\n",
    "                f\"dagness:{constraint.item():.5f} num_edges:{(sem.graph > 0.0).sum()} \"\n",
    "                f\"alpha:{auglag_loss.alpha:.5g} rho:{auglag_loss.rho:.5g} \"\n",
    "                f\"step:{scheduler.outer_opt_counter}|{scheduler.step_counter} \"\n",
    "                f\"num_lr_updates:{scheduler.num_lr_updates}\"\n",
    "            )"
   ]
  },
  {
   "cell_type": "code",
   "execution_count": 32,
   "metadata": {},
   "outputs": [
    {
     "data": {
      "text/plain": [
       "<All keys matched successfully>"
      ]
     },
     "execution_count": 32,
     "metadata": {},
     "output_type": "execute_result"
    }
   ],
   "source": [
    "torch.save(sem_module.state_dict(), 'sem_module.pth')\n",
    "sem_module.load_state_dict(torch.load('sem_module.pth'))"
   ]
  },
  {
   "cell_type": "code",
   "execution_count": 34,
   "metadata": {
    "scrolled": true
   },
   "outputs": [
    {
     "data": {
      "image/png": "[encoded data removed]",
      "text/plain": [
       "<Figure size 640x480 with 1 Axes>"
      ]
     },
     "metadata": {},
     "output_type": "display_data"
    }
   ],
   "source": [
    "Z_DIM = 5\n",
    "labeldict = {i: l for i, l in enumerate(['digit', 'obj_color', 'bg_color']+['z'+str(j) for j in range(Z_DIM)])}\n",
    "vardist = adjacency_dist()\n",
    "graph = nx.from_numpy_array(vardist.mode.cpu().numpy(), create_using=nx.DiGraph)\n",
    "nx.draw_circular(graph, labels=labeldict, with_labels=True, arrows=True)"
   ]
  },
  {
   "cell_type": "code",
   "execution_count": 35,
   "metadata": {},
   "outputs": [
    {
     "data": {
      "text/plain": [
       "array([[0., 0., 0., 1., 1., 1., 1., 1.],\n",
       "       [0., 0., 0., 1., 1., 1., 1., 0.],\n",
       "       [0., 0., 0., 1., 1., 1., 1., 1.],\n",
       "       [0., 0., 0., 0., 0., 0., 1., 0.],\n",
       "       [0., 0., 0., 1., 0., 1., 0., 0.],\n",
       "       [0., 0., 0., 0., 0., 0., 0., 0.],\n",
       "       [0., 0., 0., 0., 0., 1., 0., 0.],\n",
       "       [0., 0., 0., 0., 0., 1., 0., 0.]], dtype=float32)"
      ]
     },
     "execution_count": 35,
     "metadata": {},
     "output_type": "execute_result"
    }
   ],
   "source": [
    "vardist.mode.cpu().numpy()"
   ]
  },
  {
   "cell_type": "code",
   "execution_count": 36,
   "metadata": {},
   "outputs": [
    {
     "data": {
      "text/plain": [
       "True"
      ]
     },
     "execution_count": 36,
     "metadata": {},
     "output_type": "execute_result"
    }
   ],
   "source": [
    "nx.is_directed_acyclic_graph(graph)"
   ]
  },
  {
   "cell_type": "code",
   "execution_count": 37,
   "metadata": {},
   "outputs": [],
   "source": [
    "torch.save(sem_module.state_dict(), 'sem_module.pth')"
   ]
  },
  {
   "cell_type": "code",
   "execution_count": null,
   "metadata": {},
   "outputs": [],
   "source": []
  }
 ],
 "metadata": {
  "colab": {
   "collapsed_sections": [
    "ibLgQEnT5xvS",
    "O9cXJBwg52vG",
    "jJFt9A2gCTem"
   ],
   "provenance": []
  },
  "kernelspec": {
   "display_name": "Python 3 (ipykernel)",
   "language": "python",
   "name": "python3"
  },
  "language_info": {
   "codemirror_mode": {
    "name": "ipython",
    "version": 3
   },
   "file_extension": ".py",
   "mimetype": "text/x-python",
   "name": "python",
   "nbconvert_exporter": "python",
   "pygments_lexer": "ipython3",
   "version": "3.10.14"
  },
  "widgets": {
   "application/vnd.jupyter.widget-state+json": {
    "065d75bc95b94b9c9b4bdf1a27fd2a34": {
     "model_module": "@jupyter-widgets/base",
     "model_module_version": "1.2.0",
     "model_name": "LayoutModel",
     "state": {
      "_model_module": "@jupyter-widgets/base",
      "_model_module_version": "1.2.0",
      "_model_name": "LayoutModel",
      "_view_count": null,
      "_view_module": "@jupyter-widgets/base",
      "_view_module_version": "1.2.0",
      "_view_name": "LayoutView",
      "align_content": null,
      "align_items": null,
      "align_self": null,
      "border": null,
      "bottom": null,
      "display": null,
      "flex": null,
      "flex_flow": null,
      "grid_area": null,
      "grid_auto_columns": null,
      "grid_auto_flow": null,
      "grid_auto_rows": null,
      "grid_column": null,
      "grid_gap": null,
      "grid_row": null,
      "grid_template_areas": null,
      "grid_template_columns": null,
      "grid_template_rows": null,
      "height": null,
      "justify_content": null,
      "justify_items": null,
      "left": null,
      "margin": null,
      "max_height": null,
      "max_width": null,
      "min_height": null,
      "min_width": null,
      "object_fit": null,
      "object_position": null,
      "order": null,
      "overflow": null,
      "overflow_x": null,
      "overflow_y": null,
      "padding": null,
      "right": null,
      "top": null,
      "visibility": null,
      "width": null
     }
    },
    "0c7ea0da272c45b28791685e811011ad": {
     "model_module": "@jupyter-widgets/base",
     "model_module_version": "1.2.0",
     "model_name": "LayoutModel",
     "state": {
      "_model_module": "@jupyter-widgets/base",
      "_model_module_version": "1.2.0",
      "_model_name": "LayoutModel",
      "_view_count": null,
      "_view_module": "@jupyter-widgets/base",
      "_view_module_version": "1.2.0",
      "_view_name": "LayoutView",
      "align_content": null,
      "align_items": null,
      "align_self": null,
      "border": null,
      "bottom": null,
      "display": null,
      "flex": null,
      "flex_flow": null,
      "grid_area": null,
      "grid_auto_columns": null,
      "grid_auto_flow": null,
      "grid_auto_rows": null,
      "grid_column": null,
      "grid_gap": null,
      "grid_row": null,
      "grid_template_areas": null,
      "grid_template_columns": null,
      "grid_template_rows": null,
      "height": null,
      "justify_content": null,
      "justify_items": null,
      "left": null,
      "margin": null,
      "max_height": null,
      "max_width": null,
      "min_height": null,
      "min_width": null,
      "object_fit": null,
      "object_position": null,
      "order": null,
      "overflow": null,
      "overflow_x": null,
      "overflow_y": null,
      "padding": null,
      "right": null,
      "top": null,
      "visibility": null,
      "width": null
     }
    },
    "34cae98fc8094be6b09e608e81c05ae7": {
     "model_module": "@jupyter-widgets/output",
     "model_module_version": "1.0.0",
     "model_name": "OutputModel",
     "state": {
      "_dom_classes": [],
      "_model_module": "@jupyter-widgets/output",
      "_model_module_version": "1.0.0",
      "_model_name": "OutputModel",
      "_view_count": null,
      "_view_module": "@jupyter-widgets/output",
      "_view_module_version": "1.0.0",
      "_view_name": "OutputView",
      "layout": "IPY_MODEL_065d75bc95b94b9c9b4bdf1a27fd2a34",
      "msg_id": "",
      "outputs": []
     }
    },
    "3c5c5cb2cb694f90aa4c297e49ea4403": {
     "model_module": "@jupyter-widgets/controls",
     "model_module_version": "1.5.0",
     "model_name": "IntSliderModel",
     "state": {
      "_dom_classes": [],
      "_model_module": "@jupyter-widgets/controls",
      "_model_module_version": "1.5.0",
      "_model_name": "IntSliderModel",
      "_view_count": null,
      "_view_module": "@jupyter-widgets/controls",
      "_view_module_version": "1.5.0",
      "_view_name": "IntSliderView",
      "continuous_update": true,
      "description": "scale",
      "description_tooltip": null,
      "disabled": false,
      "layout": "IPY_MODEL_0c7ea0da272c45b28791685e811011ad",
      "max": 5,
      "min": 0,
      "orientation": "horizontal",
      "readout": true,
      "readout_format": "d",
      "step": 1,
      "style": "IPY_MODEL_8a1206e53d4d43daaba530411fbc6635",
      "value": 0
     }
    },
    "415f07bc587c4301851891ec21bcd9fc": {
     "model_module": "@jupyter-widgets/controls",
     "model_module_version": "1.5.0",
     "model_name": "SliderStyleModel",
     "state": {
      "_model_module": "@jupyter-widgets/controls",
      "_model_module_version": "1.5.0",
      "_model_name": "SliderStyleModel",
      "_view_count": null,
      "_view_module": "@jupyter-widgets/base",
      "_view_module_version": "1.2.0",
      "_view_name": "StyleView",
      "description_width": "",
      "handle_color": null
     }
    },
    "4237fc7b3aa84b9c962503c167e27956": {
     "model_module": "@jupyter-widgets/controls",
     "model_module_version": "1.5.0",
     "model_name": "IntSliderModel",
     "state": {
      "_dom_classes": [],
      "_model_module": "@jupyter-widgets/controls",
      "_model_module_version": "1.5.0",
      "_model_name": "IntSliderModel",
      "_view_count": null,
      "_view_module": "@jupyter-widgets/controls",
      "_view_module_version": "1.5.0",
      "_view_name": "IntSliderView",
      "continuous_update": true,
      "description": "shape",
      "description_tooltip": null,
      "disabled": false,
      "layout": "IPY_MODEL_c12f4a4e14614421a677f3b33b645da4",
      "max": 2,
      "min": 0,
      "orientation": "horizontal",
      "readout": true,
      "readout_format": "d",
      "step": 1,
      "style": "IPY_MODEL_7c496db1a70e4d2e9fd668775faf9f12",
      "value": 0
     }
    },
    "509a87b866ed46cebfa94cb09a4943ca": {
     "model_module": "@jupyter-widgets/controls",
     "model_module_version": "1.5.0",
     "model_name": "IntSliderModel",
     "state": {
      "_dom_classes": [],
      "_model_module": "@jupyter-widgets/controls",
      "_model_module_version": "1.5.0",
      "_model_name": "IntSliderModel",
      "_view_count": null,
      "_view_module": "@jupyter-widgets/controls",
      "_view_module_version": "1.5.0",
      "_view_name": "IntSliderView",
      "continuous_update": true,
      "description": "posX",
      "description_tooltip": null,
      "disabled": false,
      "layout": "IPY_MODEL_9d86250edc044af5824cff8b36a15e7b",
      "max": 31,
      "min": 0,
      "orientation": "horizontal",
      "readout": true,
      "readout_format": "d",
      "step": 1,
      "style": "IPY_MODEL_415f07bc587c4301851891ec21bcd9fc",
      "value": 0
     }
    },
    "50a391eb5a0743feb59beb6087190103": {
     "model_module": "@jupyter-widgets/controls",
     "model_module_version": "1.5.0",
     "model_name": "IntSliderModel",
     "state": {
      "_dom_classes": [],
      "_model_module": "@jupyter-widgets/controls",
      "_model_module_version": "1.5.0",
      "_model_name": "IntSliderModel",
      "_view_count": null,
      "_view_module": "@jupyter-widgets/controls",
      "_view_module_version": "1.5.0",
      "_view_name": "IntSliderView",
      "continuous_update": true,
      "description": "posY",
      "description_tooltip": null,
      "disabled": false,
      "layout": "IPY_MODEL_5d341b4aafa946bdb94b61f4f9c4f5f2",
      "max": 31,
      "min": 0,
      "orientation": "horizontal",
      "readout": true,
      "readout_format": "d",
      "step": 1,
      "style": "IPY_MODEL_9f7ae25de0244980843cf186bf60e5da",
      "value": 0
     }
    },
    "5d341b4aafa946bdb94b61f4f9c4f5f2": {
     "model_module": "@jupyter-widgets/base",
     "model_module_version": "1.2.0",
     "model_name": "LayoutModel",
     "state": {
      "_model_module": "@jupyter-widgets/base",
      "_model_module_version": "1.2.0",
      "_model_name": "LayoutModel",
      "_view_count": null,
      "_view_module": "@jupyter-widgets/base",
      "_view_module_version": "1.2.0",
      "_view_name": "LayoutView",
      "align_content": null,
      "align_items": null,
      "align_self": null,
      "border": null,
      "bottom": null,
      "display": null,
      "flex": null,
      "flex_flow": null,
      "grid_area": null,
      "grid_auto_columns": null,
      "grid_auto_flow": null,
      "grid_auto_rows": null,
      "grid_column": null,
      "grid_gap": null,
      "grid_row": null,
      "grid_template_areas": null,
      "grid_template_columns": null,
      "grid_template_rows": null,
      "height": null,
      "justify_content": null,
      "justify_items": null,
      "left": null,
      "margin": null,
      "max_height": null,
      "max_width": null,
      "min_height": null,
      "min_width": null,
      "object_fit": null,
      "object_position": null,
      "order": null,
      "overflow": null,
      "overflow_x": null,
      "overflow_y": null,
      "padding": null,
      "right": null,
      "top": null,
      "visibility": null,
      "width": null
     }
    },
    "6516e7b64b3f48ac82ea3531e772b776": {
     "model_module": "@jupyter-widgets/controls",
     "model_module_version": "1.5.0",
     "model_name": "IntSliderModel",
     "state": {
      "_dom_classes": [],
      "_model_module": "@jupyter-widgets/controls",
      "_model_module_version": "1.5.0",
      "_model_name": "IntSliderModel",
      "_view_count": null,
      "_view_module": "@jupyter-widgets/controls",
      "_view_module_version": "1.5.0",
      "_view_name": "IntSliderView",
      "continuous_update": true,
      "description": "orient",
      "description_tooltip": null,
      "disabled": false,
      "layout": "IPY_MODEL_ed3147dcac504327a7f4ba8ec64f4145",
      "max": 39,
      "min": 0,
      "orientation": "horizontal",
      "readout": true,
      "readout_format": "d",
      "step": 1,
      "style": "IPY_MODEL_b09befda00e140c788a6158a68b4211a",
      "value": 0
     }
    },
    "7c496db1a70e4d2e9fd668775faf9f12": {
     "model_module": "@jupyter-widgets/controls",
     "model_module_version": "1.5.0",
     "model_name": "SliderStyleModel",
     "state": {
      "_model_module": "@jupyter-widgets/controls",
      "_model_module_version": "1.5.0",
      "_model_name": "SliderStyleModel",
      "_view_count": null,
      "_view_module": "@jupyter-widgets/base",
      "_view_module_version": "1.2.0",
      "_view_name": "StyleView",
      "description_width": "",
      "handle_color": null
     }
    },
    "8a1206e53d4d43daaba530411fbc6635": {
     "model_module": "@jupyter-widgets/controls",
     "model_module_version": "1.5.0",
     "model_name": "SliderStyleModel",
     "state": {
      "_model_module": "@jupyter-widgets/controls",
      "_model_module_version": "1.5.0",
      "_model_name": "SliderStyleModel",
      "_view_count": null,
      "_view_module": "@jupyter-widgets/base",
      "_view_module_version": "1.2.0",
      "_view_name": "StyleView",
      "description_width": "",
      "handle_color": null
     }
    },
    "9d86250edc044af5824cff8b36a15e7b": {
     "model_module": "@jupyter-widgets/base",
     "model_module_version": "1.2.0",
     "model_name": "LayoutModel",
     "state": {
      "_model_module": "@jupyter-widgets/base",
      "_model_module_version": "1.2.0",
      "_model_name": "LayoutModel",
      "_view_count": null,
      "_view_module": "@jupyter-widgets/base",
      "_view_module_version": "1.2.0",
      "_view_name": "LayoutView",
      "align_content": null,
      "align_items": null,
      "align_self": null,
      "border": null,
      "bottom": null,
      "display": null,
      "flex": null,
      "flex_flow": null,
      "grid_area": null,
      "grid_auto_columns": null,
      "grid_auto_flow": null,
      "grid_auto_rows": null,
      "grid_column": null,
      "grid_gap": null,
      "grid_row": null,
      "grid_template_areas": null,
      "grid_template_columns": null,
      "grid_template_rows": null,
      "height": null,
      "justify_content": null,
      "justify_items": null,
      "left": null,
      "margin": null,
      "max_height": null,
      "max_width": null,
      "min_height": null,
      "min_width": null,
      "object_fit": null,
      "object_position": null,
      "order": null,
      "overflow": null,
      "overflow_x": null,
      "overflow_y": null,
      "padding": null,
      "right": null,
      "top": null,
      "visibility": null,
      "width": null
     }
    },
    "9f7ae25de0244980843cf186bf60e5da": {
     "model_module": "@jupyter-widgets/controls",
     "model_module_version": "1.5.0",
     "model_name": "SliderStyleModel",
     "state": {
      "_model_module": "@jupyter-widgets/controls",
      "_model_module_version": "1.5.0",
      "_model_name": "SliderStyleModel",
      "_view_count": null,
      "_view_module": "@jupyter-widgets/base",
      "_view_module_version": "1.2.0",
      "_view_name": "StyleView",
      "description_width": "",
      "handle_color": null
     }
    },
    "b09befda00e140c788a6158a68b4211a": {
     "model_module": "@jupyter-widgets/controls",
     "model_module_version": "1.5.0",
     "model_name": "SliderStyleModel",
     "state": {
      "_model_module": "@jupyter-widgets/controls",
      "_model_module_version": "1.5.0",
      "_model_name": "SliderStyleModel",
      "_view_count": null,
      "_view_module": "@jupyter-widgets/base",
      "_view_module_version": "1.2.0",
      "_view_name": "StyleView",
      "description_width": "",
      "handle_color": null
     }
    },
    "c12f4a4e14614421a677f3b33b645da4": {
     "model_module": "@jupyter-widgets/base",
     "model_module_version": "1.2.0",
     "model_name": "LayoutModel",
     "state": {
      "_model_module": "@jupyter-widgets/base",
      "_model_module_version": "1.2.0",
      "_model_name": "LayoutModel",
      "_view_count": null,
      "_view_module": "@jupyter-widgets/base",
      "_view_module_version": "1.2.0",
      "_view_name": "LayoutView",
      "align_content": null,
      "align_items": null,
      "align_self": null,
      "border": null,
      "bottom": null,
      "display": null,
      "flex": null,
      "flex_flow": null,
      "grid_area": null,
      "grid_auto_columns": null,
      "grid_auto_flow": null,
      "grid_auto_rows": null,
      "grid_column": null,
      "grid_gap": null,
      "grid_row": null,
      "grid_template_areas": null,
      "grid_template_columns": null,
      "grid_template_rows": null,
      "height": null,
      "justify_content": null,
      "justify_items": null,
      "left": null,
      "margin": null,
      "max_height": null,
      "max_width": null,
      "min_height": null,
      "min_width": null,
      "object_fit": null,
      "object_position": null,
      "order": null,
      "overflow": null,
      "overflow_x": null,
      "overflow_y": null,
      "padding": null,
      "right": null,
      "top": null,
      "visibility": null,
      "width": null
     }
    },
    "e17e0989a0314451868999df0f37665a": {
     "model_module": "@jupyter-widgets/base",
     "model_module_version": "1.2.0",
     "model_name": "LayoutModel",
     "state": {
      "_model_module": "@jupyter-widgets/base",
      "_model_module_version": "1.2.0",
      "_model_name": "LayoutModel",
      "_view_count": null,
      "_view_module": "@jupyter-widgets/base",
      "_view_module_version": "1.2.0",
      "_view_name": "LayoutView",
      "align_content": null,
      "align_items": null,
      "align_self": null,
      "border": null,
      "bottom": null,
      "display": null,
      "flex": null,
      "flex_flow": null,
      "grid_area": null,
      "grid_auto_columns": null,
      "grid_auto_flow": null,
      "grid_auto_rows": null,
      "grid_column": null,
      "grid_gap": null,
      "grid_row": null,
      "grid_template_areas": null,
      "grid_template_columns": null,
      "grid_template_rows": null,
      "height": null,
      "justify_content": null,
      "justify_items": null,
      "left": null,
      "margin": null,
      "max_height": null,
      "max_width": null,
      "min_height": null,
      "min_width": null,
      "object_fit": null,
      "object_position": null,
      "order": null,
      "overflow": null,
      "overflow_x": null,
      "overflow_y": null,
      "padding": null,
      "right": null,
      "top": null,
      "visibility": null,
      "width": null
     }
    },
    "ed3147dcac504327a7f4ba8ec64f4145": {
     "model_module": "@jupyter-widgets/base",
     "model_module_version": "1.2.0",
     "model_name": "LayoutModel",
     "state": {
      "_model_module": "@jupyter-widgets/base",
      "_model_module_version": "1.2.0",
      "_model_name": "LayoutModel",
      "_view_count": null,
      "_view_module": "@jupyter-widgets/base",
      "_view_module_version": "1.2.0",
      "_view_name": "LayoutView",
      "align_content": null,
      "align_items": null,
      "align_self": null,
      "border": null,
      "bottom": null,
      "display": null,
      "flex": null,
      "flex_flow": null,
      "grid_area": null,
      "grid_auto_columns": null,
      "grid_auto_flow": null,
      "grid_auto_rows": null,
      "grid_column": null,
      "grid_gap": null,
      "grid_row": null,
      "grid_template_areas": null,
      "grid_template_columns": null,
      "grid_template_rows": null,
      "height": null,
      "justify_content": null,
      "justify_items": null,
      "left": null,
      "margin": null,
      "max_height": null,
      "max_width": null,
      "min_height": null,
      "min_width": null,
      "object_fit": null,
      "object_position": null,
      "order": null,
      "overflow": null,
      "overflow_x": null,
      "overflow_y": null,
      "padding": null,
      "right": null,
      "top": null,
      "visibility": null,
      "width": null
     }
    },
    "ff4500ab4999449d93113c50eff6ccdc": {
     "model_module": "@jupyter-widgets/controls",
     "model_module_version": "1.5.0",
     "model_name": "VBoxModel",
     "state": {
      "_dom_classes": [
       "widget-interact"
      ],
      "_model_module": "@jupyter-widgets/controls",
      "_model_module_version": "1.5.0",
      "_model_name": "VBoxModel",
      "_view_count": null,
      "_view_module": "@jupyter-widgets/controls",
      "_view_module_version": "1.5.0",
      "_view_name": "VBoxView",
      "box_style": "",
      "children": [
       "IPY_MODEL_4237fc7b3aa84b9c962503c167e27956",
       "IPY_MODEL_3c5c5cb2cb694f90aa4c297e49ea4403",
       "IPY_MODEL_6516e7b64b3f48ac82ea3531e772b776",
       "IPY_MODEL_509a87b866ed46cebfa94cb09a4943ca",
       "IPY_MODEL_50a391eb5a0743feb59beb6087190103",
       "IPY_MODEL_34cae98fc8094be6b09e608e81c05ae7"
      ],
      "layout": "IPY_MODEL_e17e0989a0314451868999df0f37665a"
     }
    }
   }
  }
 },
 "nbformat": 4,
 "nbformat_minor": 1
}
