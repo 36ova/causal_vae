{
 "cells": [
  {
   "cell_type": "code",
   "execution_count": 55,
   "metadata": {
    "id": "3pwVzD6Mi8ub"
   },
   "outputs": [],
   "source": [
    "import matplotlib.pyplot as plt\n",
    "import os\n",
    "\n",
    "import matplotlib.image as mpimg\n",
    "import random\n",
    "import math\n",
    "import numpy as np\n",
    "import pandas as pd\n",
    "from tqdm import tqdm\n",
    "from datasets_utils import *\n",
    "if not os.path.exists('./causal_data/pendulum/'):\n",
    "    os.makedirs('./causal_data/pendulum/train/')\n",
    "    os.makedirs('./causal_data/pendulum/test/')"
   ]
  },
  {
   "cell_type": "code",
   "execution_count": 57,
   "metadata": {
    "id": "xhUmMo0IjJ2R"
   },
   "outputs": [],
   "source": [
    "def projection(theta, phi, x, y, base = -0.5):\n",
    "    b = y - x * math.tan(phi)\n",
    "    shade = (base - b) / math.tan(phi)\n",
    "    return shade"
   ]
  },
  {
   "cell_type": "code",
   "execution_count": 58,
   "metadata": {},
   "outputs": [],
   "source": [
    "# i = np.random.randint(-60, 60)\n",
    "# j = np.random.randint(50, 150)\n",
    "# [0, 10] shade\n",
    "# [1, 18] mid"
   ]
  },
  {
   "cell_type": "code",
   "execution_count": 59,
   "metadata": {
    "id": "v5sGShKfi2WI",
    "scrolled": true
   },
   "outputs": [
    {
     "name": "stderr",
     "output_type": "stream",
     "text": [
      "100%|█████████████████████████████████████████| 120/120 [02:38<00:00,  1.32s/it]\n"
     ]
    },
    {
     "data": {
      "text/plain": [
       "<Figure size 100x100 with 0 Axes>"
      ]
     },
     "metadata": {},
     "output_type": "display_data"
    }
   ],
   "source": [
    "scale = np.array([[0,44],[100,40],[7,7.5],[10,10]])\n",
    "count = 0\n",
    "empty = pd.DataFrame(columns=['i', 'j', 'shade','mid'])\n",
    "true_df = pd.DataFrame(columns=['i', 'j', 'shade','mid'])\n",
    "for i in tqdm(range(-60, 60)): #pendulum\n",
    "    for j in range(50, 150): #light\n",
    "        if j == 100:\n",
    "            continue\n",
    "        plt.rcParams['figure.figsize'] = (1.0, 1.0)\n",
    "        theta = i*math.pi/200.0\n",
    "        phi = j*math.pi/200.0\n",
    "        x = 10 + 8*math.sin(theta)\n",
    "        y = 10.5 - 8*math.cos(theta)\n",
    "\n",
    "        ball = plt.Circle((x,y), 1.5, color = 'firebrick')\n",
    "        gun = plt.Polygon(([10,10.5],[x,y]), color = 'black', linewidth = 3)\n",
    "\n",
    "        light = projection(theta, phi, 10, 10.5, 20.5)\n",
    "        sun = plt.Circle((light,20.5), 3, color = 'orange')\n",
    "\n",
    "        #calculate the mid index of\n",
    "        ball_x = 10+9.5*math.sin(theta)\n",
    "        ball_y = 10.5-9.5*math. cos(theta)\n",
    "        mid = (projection(theta, phi, 10.0, 10.5)+projection(theta, phi, ball_x, ball_y))/2\n",
    "        shade = max(3,abs(projection(theta, phi, 10.0, 10.5)-projection(theta, phi, ball_x, ball_y)))\n",
    "\n",
    "        shadow = plt.Polygon(([mid - shade/2.0, -0.5],[mid + shade/2.0, -0.5]), color = 'black', linewidth = 3)\n",
    "\n",
    "        ax = plt.gca()\n",
    "        ax.add_artist(gun)\n",
    "        ax.add_artist(ball)\n",
    "        ax.add_artist(sun)\n",
    "        ax.add_artist(shadow)\n",
    "        ax.set_xlim((0, 20))\n",
    "        ax.set_ylim((-1, 21))\n",
    "        new=pd.DataFrame({\n",
    "                  'i':(i-scale[0][0])/(scale[0][1]-0),\n",
    "                  'j':(j-scale[1][0])/(scale[1][1]-0),\n",
    "                  'shade':(shade-scale[2][0])/(scale[2][1]-0),\n",
    "                  'mid':(mid-scale[2][0])/(scale[2][1]-0)\n",
    "                  }, index=[1])\n",
    "        empty = pd.concat([empty, new], ignore_index=True)\n",
    "        new=pd.DataFrame({\n",
    "                  'i':i,\n",
    "                  'j':j,\n",
    "                  'shade':shade,\n",
    "                  'mid':mid\n",
    "                  }, index=[1])\n",
    "        true_df = pd.concat([true_df, new], ignore_index=True)\n",
    "        \n",
    "        plt.axis('off')\n",
    "        if count == 7:\n",
    "            plt.savefig('./causal_data/pendulum/test/a_' + str(int(i)) + '_' + str(int(j)) + '_' + str(int(shade)) + '_' + str(int(mid)) +'.png',dpi=96)\n",
    "            count = 0\n",
    "        else:\n",
    "            plt.savefig('./causal_data/pendulum/train/a_' + str(int(i)) + '_' + str(int(j)) + '_' + str(int(shade)) + '_' + str(int(mid)) +'.png',dpi=96)\n",
    "        plt.clf()\n",
    "        count += 1"
   ]
  },
  {
   "cell_type": "code",
   "execution_count": 90,
   "metadata": {},
   "outputs": [
    {
     "data": {
      "text/plain": [
       "(10183, 1697)"
      ]
     },
     "execution_count": 90,
     "metadata": {},
     "output_type": "execute_result"
    }
   ],
   "source": [
    "len(os.listdir('causal_data/pendulum/train')), len(os.listdir('causal_data/pendulum/test'))"
   ]
  },
  {
   "cell_type": "code",
   "execution_count": 61,
   "metadata": {},
   "outputs": [],
   "source": [
    "class Synthetic(data.Dataset):\n",
    "    def __init__(self, root, dataset=\"train\"):\n",
    "        root = root + \"/\" + dataset\n",
    "\n",
    "        imgs = os.listdir(root)\n",
    "\n",
    "        self.dataset = dataset\n",
    "\n",
    "        self.imgs = [os.path.join(root, k) for k in imgs]\n",
    "        self.imglabel = [list(map(int, k[:-4].split(\"_\")[1:])) for k in imgs]\n",
    "        self.transforms = transforms.Compose([transforms.ToTensor()])\n",
    "\n",
    "    def __getitem__(self, idx):\n",
    "        img_path = self.imgs[idx]\n",
    "\n",
    "        label = torch.from_numpy(np.asarray(self.imglabel[idx]))\n",
    "        pil_img = Image.open(img_path)\n",
    "        label = torch.from_numpy(np.asarray(label))\n",
    "        if self.transforms:\n",
    "            data = self.transforms(pil_img)[:3]\n",
    "        else:\n",
    "            pil_img = np.asarray(pil_img)[:, :, :3].reshape(96, 96, 3)\n",
    "            data = torch.from_numpy(pil_img)\n",
    "        return data, label.float()\n",
    "\n",
    "    def __len__(self):\n",
    "        return len(self.imgs)"
   ]
  },
  {
   "cell_type": "code",
   "execution_count": 62,
   "metadata": {},
   "outputs": [],
   "source": [
    "def get_synthetic_data(dataset_dir, batch_size):\n",
    "\ttrain_dataset = Synthetic(dataset_dir, \"train\")\n",
    "\ttest_dataset = Synthetic(dataset_dir, \"test\")\n",
    "\ttrain_loader = Data.DataLoader(train_dataset, batch_size=batch_size, shuffle=True)\n",
    "\ttest_loader = Data.DataLoader(test_dataset, batch_size=batch_size, shuffle=False)\n",
    "\treturn train_dataset, test_dataset, train_loader, test_loader"
   ]
  },
  {
   "cell_type": "code",
   "execution_count": 63,
   "metadata": {},
   "outputs": [],
   "source": [
    "d = get_synthetic_data('causal_data/pendulum', 256)\n",
    "train_dataset, test_dataset, train_loader, test_loader = d"
   ]
  },
  {
   "cell_type": "code",
   "execution_count": 64,
   "metadata": {},
   "outputs": [
    {
     "data": {
      "text/plain": [
       "torch.Size([3, 96, 96])"
      ]
     },
     "execution_count": 64,
     "metadata": {},
     "output_type": "execute_result"
    }
   ],
   "source": [
    "train_dataset[0][0].shape"
   ]
  },
  {
   "cell_type": "markdown",
   "metadata": {},
   "source": [
    "COUNTERFACTUAL"
   ]
  },
  {
   "cell_type": "code",
   "execution_count": 76,
   "metadata": {},
   "outputs": [],
   "source": [
    "!rm -r ./causal_data/pendulum/cf"
   ]
  },
  {
   "cell_type": "code",
   "execution_count": 77,
   "metadata": {},
   "outputs": [],
   "source": [
    "if not os.path.exists('./causal_data/pendulum/cf'):\n",
    "    os.makedirs('./causal_data/pendulum/cf')"
   ]
  },
  {
   "cell_type": "code",
   "execution_count": 78,
   "metadata": {},
   "outputs": [],
   "source": [
    "def projection(theta, phi, x, y, base=-0.5):\n",
    "    b = y - x * np.tan(phi)\n",
    "    shade = (base - b) / np.tan(phi)\n",
    "    return shade\n",
    "\n",
    "# Input arrays\n",
    "def generate(i, j, shadow_len=None, shadow_pos=None):\n",
    "    X = np.zeros((i.shape[0], 3, 96, 96))\n",
    "    scale = np.array([[0, 44], [100, 40], [7, 7.5], [10, 10]])\n",
    "    count = 0\n",
    "    plt.rcParams['figure.figsize'] = (1.0, 1.0)\n",
    "    theta = i * math.pi / 200.0\n",
    "    phi = j * math.pi / 200.0\n",
    "        \n",
    "    x = 10 + 8 * np.sin(theta)\n",
    "    y = 10.5 - 8 * np.cos(theta)\n",
    "\n",
    "    # calculate the mid index of\n",
    "    ball_x = 10 + 9.5 * np.sin(theta)\n",
    "    ball_y = 10.5 - 9.5 * np.cos(theta)\n",
    "\n",
    "    if shadow_pos != None:\n",
    "        mid = np.ones(i.shape[0]) * shadow_pos\n",
    "    else:\n",
    "        mid = (projection(theta, phi, 10.0, 10.5) + projection(theta, phi, ball_x, ball_y)) / 2\n",
    "\n",
    "    if shadow_len != None:\n",
    "        shade = np.ones(i.shape[0]) * shadow_len\n",
    "    else:\n",
    "        shade = np.maximum(3, np.abs(projection(theta, phi, 10.0, 10.5) - projection(theta, phi, ball_x, ball_y)))\n",
    "\n",
    "    for e in range(i.shape[0]):\n",
    "        ball = plt.Circle((x[e], y[e]), 1.5, color='firebrick')\n",
    "        gun = plt.Polygon(([10, 10.5], [x[e], y[e]]), color='black', linewidth=3)\n",
    "\n",
    "        light = projection(theta[e], phi[e], 10, 10.5, 20.5)\n",
    "        sun = plt.Circle((light, 20.5), 3, color='orange')\n",
    "\n",
    "        shadow = plt.Polygon(([mid[e] - shade[e] / 2.0, -0.5], [mid[e] + shade[e] / 2.0, -0.5]), color='black',\n",
    "                             linewidth=3)\n",
    "\n",
    "        ax = plt.gca()\n",
    "        ax.add_artist(gun)\n",
    "        ax.add_artist(ball)\n",
    "        ax.add_artist(sun)\n",
    "        ax.add_artist(shadow)\n",
    "        ax.set_xlim((0, 20))\n",
    "        ax.set_ylim((-1, 21))\n",
    "\n",
    "        new = pd.DataFrame({\n",
    "            'i': (i[e] - scale[0][0]) / (scale[0][1] - 0),\n",
    "            'j': (j[e] - scale[1][0]) / (scale[1][1] - 0),\n",
    "            'shade': (shade[e] - scale[2][0]) / (scale[2][1] - 0),\n",
    "            'mid': (mid[e] - scale[2][0]) / (scale[2][1] - 0)\n",
    "        },\n",
    "            index=[1])\n",
    "        plt.axis('off')\n",
    "\n",
    "        plt.savefig(\n",
    "            './causal_data/pendulum/cf/a_' + str(int(i[e])) + '_' + str(int(j[e])) + '_' + str(int(shade[e])) + '_' + str(\n",
    "                int(mid[e])) + '.png', dpi=96)\n",
    "\n",
    "        pil_img = Image.open('./causal_data/pendulum/cf/a_' + str(int(i[e])) + '_' + str(int(j[e])) + '_' + str(int(shade[e])) + '_' + str(\n",
    "                int(mid[e])) + '.png')\n",
    "        pil_img = np.asarray(pil_img)\n",
    "        transform = transforms.Compose([transforms.ToTensor()])\n",
    "        pil_img = transform(pil_img)\n",
    "        X[e] = pil_img[:3]\n",
    "\n",
    "        plt.clf()\n",
    "        count += 1\n",
    "    return X, np.array([i, j, shade, mid]).T"
   ]
  },
  {
   "cell_type": "code",
   "execution_count": 116,
   "metadata": {},
   "outputs": [
    {
     "data": {
      "text/plain": [
       "(3, 13.435028842544401)"
      ]
     },
     "execution_count": 116,
     "metadata": {},
     "output_type": "execute_result"
    }
   ],
   "source": [
    "true_df['shade'].min(), true_df['shade'].max() "
   ]
  },
  {
   "cell_type": "code",
   "execution_count": 117,
   "metadata": {},
   "outputs": [
    {
     "data": {
      "text/plain": [
       "(-2.050850774891753, 21.69446725125492)"
      ]
     },
     "execution_count": 117,
     "metadata": {},
     "output_type": "execute_result"
    }
   ],
   "source": [
    "true_df['mid'].min(), true_df['mid'].max() "
   ]
  },
  {
   "cell_type": "code",
   "execution_count": 79,
   "metadata": {},
   "outputs": [],
   "source": [
    "def scale(vector, name):\n",
    "    mi = true_df[name].min()\n",
    "    ma = true_df[name].max()\n",
    "    return vector * (ma - mi) + mi"
   ]
  },
  {
   "cell_type": "code",
   "execution_count": 80,
   "metadata": {},
   "outputs": [],
   "source": [
    "# VISUALIZE ANY COMBINATION\n",
    "# x, l = generate(np.array([-60]), np.array([150]), 13, 21)\n",
    "# print(l)\n",
    "# plt.imshow(x[0].transpose(1,2,0))"
   ]
  },
  {
   "cell_type": "code",
   "execution_count": 81,
   "metadata": {
    "scrolled": false
   },
   "outputs": [
    {
     "data": {
      "text/plain": [
       "<Figure size 100x100 with 0 Axes>"
      ]
     },
     "metadata": {},
     "output_type": "display_data"
    }
   ],
   "source": [
    "cf_ds_size = 1697\n",
    "while len(os.listdir('./causal_data/pendulum/cf')) != cf_ds_size:\n",
    "    i = np.random.randint(-60, 60)\n",
    "    j = np.random.randint(50, 150)\n",
    "    while j == 100 or j == 0:\n",
    "        j = np.random.randint(50, 150)\n",
    "    shade = scale(np.random.rand(), 'shade')\n",
    "    mid = scale(np.random.rand(), 'mid')\n",
    "    _ = generate(np.array([i]), np.array([j]), shade, mid)"
   ]
  },
  {
   "cell_type": "code",
   "execution_count": 82,
   "metadata": {},
   "outputs": [],
   "source": [
    "cf_dataset = Synthetic('causal_data/pendulum', \"cf\")\n",
    "cf_loader = Data.DataLoader(cf_dataset, batch_size=256, shuffle=False)"
   ]
  },
  {
   "cell_type": "code",
   "execution_count": 84,
   "metadata": {},
   "outputs": [
    {
     "data": {
      "text/plain": [
       "1697"
      ]
     },
     "execution_count": 84,
     "metadata": {},
     "output_type": "execute_result"
    }
   ],
   "source": [
    "len(cf_dataset)"
   ]
  },
  {
   "cell_type": "code",
   "execution_count": 85,
   "metadata": {
    "scrolled": true
   },
   "outputs": [
    {
     "name": "stdout",
     "output_type": "stream",
     "text": [
      "tensor([48., 98.,  4.,  9.])\n"
     ]
    },
    {
     "data": {
      "image/png": "[encoded data removed]",
      "text/plain": [
       "<Figure size 100x100 with 1 Axes>"
      ]
     },
     "metadata": {},
     "output_type": "display_data"
    },
    {
     "name": "stdout",
     "output_type": "stream",
     "text": [
      "tensor([49., 62., 10.,  0.])\n"
     ]
    },
    {
     "data": {
      "image/png": "[encoded data removed]",
      "text/plain": [
       "<Figure size 100x100 with 1 Axes>"
      ]
     },
     "metadata": {},
     "output_type": "display_data"
    },
    {
     "name": "stdout",
     "output_type": "stream",
     "text": [
      "tensor([ 46., 118.,  12.,  18.])\n"
     ]
    },
    {
     "data": {
      "image/png": "[encoded data removed]",
      "text/plain": [
       "<Figure size 100x100 with 1 Axes>"
      ]
     },
     "metadata": {},
     "output_type": "display_data"
    }
   ],
   "source": [
    "X, labels = next(iter(cf_loader))\n",
    "for i, (x, l) in enumerate(zip(X, labels)):\n",
    "    if i >= 3:\n",
    "        break\n",
    "    print(l)\n",
    "    plt.imshow(x.permute(1,2,0))\n",
    "    plt.show()"
   ]
  },
  {
   "cell_type": "code",
   "execution_count": 114,
   "metadata": {},
   "outputs": [],
   "source": [
    "!zip -q -r pendulum.zip pendulum"
   ]
  },
  {
   "cell_type": "code",
   "execution_count": 87,
   "metadata": {},
   "outputs": [],
   "source": [
    "!mkdir causal_data/pendulum/regressor_data"
   ]
  },
  {
   "cell_type": "code",
   "execution_count": 91,
   "metadata": {},
   "outputs": [],
   "source": [
    "def projection(theta, phi, x, y, base=-0.5):\n",
    "    b = y - x * np.tan(phi)\n",
    "    shade = (base - b) / np.tan(phi)\n",
    "    return shade\n",
    "\n",
    "# Input arrays\n",
    "def generate(i, j, shadow_len=None, shadow_pos=None):\n",
    "    X = np.zeros((i.shape[0], 3, 96, 96))\n",
    "    scale = np.array([[0, 44], [100, 40], [7, 7.5], [10, 10]])\n",
    "    count = 0\n",
    "    plt.rcParams['figure.figsize'] = (1.0, 1.0)\n",
    "    theta = i * math.pi / 200.0\n",
    "    phi = j * math.pi / 200.0\n",
    "        \n",
    "    x = 10 + 8 * np.sin(theta)\n",
    "    y = 10.5 - 8 * np.cos(theta)\n",
    "\n",
    "    # calculate the mid index of\n",
    "    ball_x = 10 + 9.5 * np.sin(theta)\n",
    "    ball_y = 10.5 - 9.5 * np.cos(theta)\n",
    "\n",
    "    if shadow_pos != None:\n",
    "        mid = np.ones(i.shape[0]) * shadow_pos\n",
    "    else:\n",
    "        mid = (projection(theta, phi, 10.0, 10.5) + projection(theta, phi, ball_x, ball_y)) / 2\n",
    "\n",
    "    if shadow_len != None:\n",
    "        shade = np.ones(i.shape[0]) * shadow_len\n",
    "    else:\n",
    "        shade = np.maximum(3, np.abs(projection(theta, phi, 10.0, 10.5) - projection(theta, phi, ball_x, ball_y)))\n",
    "\n",
    "    for e in range(i.shape[0]):\n",
    "        ball = plt.Circle((x[e], y[e]), 1.5, color='firebrick')\n",
    "        gun = plt.Polygon(([10, 10.5], [x[e], y[e]]), color='black', linewidth=3)\n",
    "\n",
    "        light = projection(theta[e], phi[e], 10, 10.5, 20.5)\n",
    "        sun = plt.Circle((light, 20.5), 3, color='orange')\n",
    "\n",
    "        shadow = plt.Polygon(([mid[e] - shade[e] / 2.0, -0.5], [mid[e] + shade[e] / 2.0, -0.5]), color='black',\n",
    "                             linewidth=3)\n",
    "\n",
    "        ax = plt.gca()\n",
    "        ax.add_artist(gun)\n",
    "        ax.add_artist(ball)\n",
    "        ax.add_artist(sun)\n",
    "        ax.add_artist(shadow)\n",
    "        ax.set_xlim((0, 20))\n",
    "        ax.set_ylim((-1, 21))\n",
    "\n",
    "        new = pd.DataFrame({\n",
    "            'i': (i[e] - scale[0][0]) / (scale[0][1] - 0),\n",
    "            'j': (j[e] - scale[1][0]) / (scale[1][1] - 0),\n",
    "            'shade': (shade[e] - scale[2][0]) / (scale[2][1] - 0),\n",
    "            'mid': (mid[e] - scale[2][0]) / (scale[2][1] - 0)\n",
    "        },\n",
    "            index=[1])\n",
    "        plt.axis('off')\n",
    "\n",
    "        plt.savefig(\n",
    "            './causal_data/pendulum/regressor_data/a_' + str(int(i[e])) + '_' + str(int(j[e])) + '_' + str(int(shade[e])) + '_' + str(\n",
    "                int(mid[e])) + '.png', dpi=96)\n",
    "\n",
    "        pil_img = Image.open('./causal_data/pendulum/regressor_data/a_' + str(int(i[e])) + '_' + str(int(j[e])) + '_' + str(int(shade[e])) + '_' + str(\n",
    "                int(mid[e])) + '.png')\n",
    "        pil_img = np.asarray(pil_img)\n",
    "        transform = transforms.Compose([transforms.ToTensor()])\n",
    "        pil_img = transform(pil_img)\n",
    "        X[e] = pil_img[:3]\n",
    "\n",
    "        plt.clf()\n",
    "        count += 1\n",
    "    return X, np.array([i, j, shade, mid]).T"
   ]
  },
  {
   "cell_type": "code",
   "execution_count": 92,
   "metadata": {},
   "outputs": [
    {
     "name": "stdout",
     "output_type": "stream",
     "text": [
      "1000\n",
      "2000\n",
      "3000\n",
      "4000\n",
      "5000\n",
      "6000\n",
      "7000\n",
      "8000\n",
      "9000\n",
      "10000\n",
      "11000\n",
      "12000\n",
      "13000\n",
      "14000\n",
      "15000\n",
      "16000\n",
      "17000\n",
      "18000\n",
      "19000\n",
      "20000\n",
      "21000\n",
      "22000\n",
      "23000\n",
      "24000\n",
      "25000\n",
      "26000\n",
      "27000\n",
      "28000\n",
      "29000\n",
      "30000\n",
      "31000\n",
      "32000\n",
      "33000\n",
      "34000\n",
      "35000\n",
      "36000\n",
      "37000\n",
      "38000\n",
      "39000\n",
      "40000\n",
      "41000\n",
      "42000\n",
      "43000\n",
      "44000\n",
      "45000\n",
      "46000\n",
      "47000\n",
      "48000\n",
      "49000\n",
      "50000\n",
      "51000\n",
      "52000\n",
      "53000\n",
      "54000\n",
      "55000\n",
      "56000\n",
      "57000\n",
      "58000\n",
      "59000\n",
      "60000\n",
      "61000\n",
      "62000\n",
      "63000\n",
      "64000\n",
      "65000\n",
      "66000\n",
      "67000\n",
      "68000\n",
      "69000\n",
      "70000\n",
      "71000\n",
      "72000\n",
      "73000\n",
      "74000\n",
      "75000\n",
      "76000\n",
      "77000\n",
      "78000\n",
      "79000\n",
      "80000\n",
      "81000\n",
      "82000\n",
      "83000\n",
      "84000\n",
      "85000\n",
      "86000\n",
      "87000\n",
      "88000\n",
      "89000\n",
      "90000\n",
      "91000\n",
      "92000\n",
      "93000\n",
      "94000\n",
      "95000\n",
      "96000\n",
      "97000\n",
      "98000\n",
      "99000\n",
      "100000\n"
     ]
    },
    {
     "data": {
      "text/plain": [
       "<Figure size 100x100 with 0 Axes>"
      ]
     },
     "metadata": {},
     "output_type": "display_data"
    }
   ],
   "source": [
    "ds_size = 100000\n",
    "while len(os.listdir('./causal_data/pendulum/regressor_data')) != ds_size:\n",
    "    i = np.random.randint(-60, 60)\n",
    "    j = np.random.randint(50, 150)\n",
    "    while j == 100 or j == 0:\n",
    "        j = np.random.randint(50, 150)\n",
    "    shade = scale(np.random.rand(), 'shade')\n",
    "    mid = scale(np.random.rand(), 'mid')\n",
    "    _ = generate(np.array([i]), np.array([j]), shade, mid)\n",
    "    if len(os.listdir('./causal_data/pendulum/regressor_data')) % 1000 == 0:\n",
    "        print(len(os.listdir('./causal_data/pendulum/regressor_data')))"
   ]
  },
  {
   "cell_type": "code",
   "execution_count": 98,
   "metadata": {},
   "outputs": [
    {
     "name": "stdout",
     "output_type": "stream",
     "text": [
      "\u001b[34mcf\u001b[m\u001b[m             \u001b[34mregressor_data\u001b[m\u001b[m \u001b[34mtest\u001b[m\u001b[m           \u001b[34mtrain\u001b[m\u001b[m\r\n"
     ]
    }
   ],
   "source": [
    "!ls causal_data/pendulum/regressor_data"
   ]
  },
  {
   "cell_type": "code",
   "execution_count": 99,
   "metadata": {
    "scrolled": true
   },
   "outputs": [
    {
     "name": "stdout",
     "output_type": "stream",
     "text": [
      "Moved 80000 files to causal_data/pendulum/regressor_data/train\n",
      "Moved 20000 files to causal_data/pendulum/regressor_data/test\n"
     ]
    }
   ],
   "source": [
    "import os\n",
    "import shutil\n",
    "import random\n",
    "# Define paths\n",
    "base_dir = 'causal_data/pendulum/regressor_data'\n",
    "train_dir = os.path.join(base_dir, 'train')\n",
    "test_dir = os.path.join(base_dir, 'test')\n",
    "# Create train and test directories if they don't exist\n",
    "os.makedirs(train_dir, exist_ok=True)\n",
    "os.makedirs(test_dir, exist_ok=True)\n",
    "# Get list of all image files in the base directory\n",
    "all_files = [f for f in os.listdir(base_dir) if os.path.isfile(os.path.join(base_dir, f))]\n",
    "# Shuffle the list of files\n",
    "random.shuffle(all_files)\n",
    "# Split the files into train and test sets\n",
    "split_index = int(0.8 * len(all_files))\n",
    "train_files = all_files[:split_index]\n",
    "test_files = all_files[split_index:]\n",
    "# Move files to train and test directories\n",
    "for f in train_files:\n",
    "    shutil.move(os.path.join(base_dir, f), os.path.join(train_dir, f))\n",
    "for f in test_files:\n",
    "    shutil.move(os.path.join(base_dir, f), os.path.join(test_dir, f))\n",
    "print(f\"Moved {len(train_files)} files to {train_dir}\")\n",
    "print(f\"Moved {len(test_files)} files to {test_dir}\")"
   ]
  },
  {
   "cell_type": "code",
   "execution_count": 101,
   "metadata": {},
   "outputs": [
    {
     "name": "stdout",
     "output_type": "stream",
     "text": [
      "CVAE_pendulum_zdim=3.ipynb datasets_utils.py\r\n",
      "Pendulum.ipynb             pendulum.zip\r\n",
      "\u001b[34m__pycache__\u001b[m\u001b[m                regressor_data.zip\r\n",
      "\u001b[34mcausal_data\u001b[m\u001b[m\r\n"
     ]
    }
   ],
   "source": [
    "!ls"
   ]
  },
  {
   "cell_type": "code",
   "execution_count": 100,
   "metadata": {},
   "outputs": [],
   "source": [
    "!zip -q -r regressor_data.zip causal_data/pendulum/regressor_data"
   ]
  },
  {
   "cell_type": "code",
   "execution_count": 108,
   "metadata": {},
   "outputs": [
    {
     "name": "stdout",
     "output_type": "stream",
     "text": [
      "/Users/leedatroeshestova/Thesis/Experiments/data/pendulum/causal_data/pendulum\n"
     ]
    }
   ],
   "source": [
    "%cd pendulum"
   ]
  },
  {
   "cell_type": "code",
   "execution_count": 109,
   "metadata": {},
   "outputs": [
    {
     "name": "stdout",
     "output_type": "stream",
     "text": [
      "\u001b[34mcf\u001b[m\u001b[m             \u001b[34mregressor_data\u001b[m\u001b[m \u001b[34mtest\u001b[m\u001b[m           \u001b[34mtrain\u001b[m\u001b[m\r\n"
     ]
    }
   ],
   "source": [
    "!ls"
   ]
  },
  {
   "cell_type": "code",
   "execution_count": 110,
   "metadata": {},
   "outputs": [],
   "source": [
    "!zip -q -r regressor_data.zip regressor_data"
   ]
  },
  {
   "cell_type": "code",
   "execution_count": null,
   "metadata": {},
   "outputs": [],
   "source": []
  }
 ],
 "metadata": {
  "colab": {
   "provenance": []
  },
  "kernelspec": {
   "display_name": "Python 3 (ipykernel)",
   "language": "python",
   "name": "python3"
  },
  "language_info": {
   "codemirror_mode": {
    "name": "ipython",
    "version": 3
   },
   "file_extension": ".py",
   "mimetype": "text/x-python",
   "name": "python",
   "nbconvert_exporter": "python",
   "pygments_lexer": "ipython3",
   "version": "3.10.14"
  }
 },
 "nbformat": 4,
 "nbformat_minor": 1
}
